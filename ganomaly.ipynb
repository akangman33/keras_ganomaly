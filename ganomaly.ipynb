{
 "cells": [
  {
   "cell_type": "code",
   "execution_count": 1,
   "metadata": {},
   "outputs": [],
   "source": [
    "import numpy as np\n",
    "import cv2\n",
    "import matplotlib.pyplot as plt\n",
    "from tqdm import tqdm\n",
    "import glob\n",
    "\n",
    "np.random.seed(19940904)"
   ]
  },
  {
   "cell_type": "code",
   "execution_count": 2,
   "metadata": {},
   "outputs": [],
   "source": [
    "import os\n",
    "os.environ[\"CUDA_VISIBLE_DEVICES\"] = \"0\""
   ]
  },
  {
   "cell_type": "markdown",
   "metadata": {},
   "source": [
    "## Model"
   ]
  },
  {
   "cell_type": "code",
   "execution_count": 3,
   "metadata": {},
   "outputs": [
    {
     "name": "stderr",
     "output_type": "stream",
     "text": [
      "/opt/conda/lib/python3.6/site-packages/h5py/__init__.py:36: FutureWarning: Conversion of the second argument of issubdtype from `float` to `np.floating` is deprecated. In future, it will be treated as `np.float64 == np.dtype(float).type`.\n",
      "  from ._conv import register_converters as _register_converters\n",
      "Using TensorFlow backend.\n"
     ]
    }
   ],
   "source": [
    "import keras\n",
    "from keras import layers"
   ]
  },
  {
   "cell_type": "markdown",
   "metadata": {},
   "source": [
    "### AutoEncoder and Encoder"
   ]
  },
  {
   "cell_type": "code",
   "execution_count": 4,
   "metadata": {},
   "outputs": [
    {
     "name": "stdout",
     "output_type": "stream",
     "text": [
      "__________________________________________________________________________________________________\n",
      "Layer (type)                    Output Shape         Param #     Connected to                     \n",
      "==================================================================================================\n",
      "input (InputLayer)              (None, 64, 64, 3)    0                                            \n",
      "__________________________________________________________________________________________________\n",
      "conv_1 (Conv2D)                 (None, 64, 64, 32)   2432        input[0][0]                      \n",
      "__________________________________________________________________________________________________\n",
      "leaky_1 (LeakyReLU)             (None, 64, 64, 32)   0           conv_1[0][0]                     \n",
      "__________________________________________________________________________________________________\n",
      "conv_2 (Conv2D)                 (None, 32, 32, 64)   18496       leaky_1[0][0]                    \n",
      "__________________________________________________________________________________________________\n",
      "norm_1 (BatchNormalization)     (None, 32, 32, 64)   256         conv_2[0][0]                     \n",
      "__________________________________________________________________________________________________\n",
      "leaky_2 (LeakyReLU)             (None, 32, 32, 64)   0           norm_1[0][0]                     \n",
      "__________________________________________________________________________________________________\n",
      "conv_3 (Conv2D)                 (None, 16, 16, 128)  73856       leaky_2[0][0]                    \n",
      "__________________________________________________________________________________________________\n",
      "norm_2 (BatchNormalization)     (None, 16, 16, 128)  512         conv_3[0][0]                     \n",
      "__________________________________________________________________________________________________\n",
      "leaky_3 (LeakyReLU)             (None, 16, 16, 128)  0           norm_2[0][0]                     \n",
      "__________________________________________________________________________________________________\n",
      "conv_4 (Conv2D)                 (None, 8, 8, 128)    147584      leaky_3[0][0]                    \n",
      "__________________________________________________________________________________________________\n",
      "norm_3 (BatchNormalization)     (None, 8, 8, 128)    512         conv_4[0][0]                     \n",
      "__________________________________________________________________________________________________\n",
      "leaky_4 (LeakyReLU)             (None, 8, 8, 128)    0           norm_3[0][0]                     \n",
      "__________________________________________________________________________________________________\n",
      "g_encoder_output (Flatten)      (None, 8192)         0           leaky_4[0][0]                    \n",
      "__________________________________________________________________________________________________\n",
      "de_reshape (Reshape)            (None, 8, 8, 128)    0           g_encoder_output[0][0]           \n",
      "__________________________________________________________________________________________________\n",
      "deconv_1 (Conv2DTranspose)      (None, 16, 16, 128)  147584      de_reshape[0][0]                 \n",
      "__________________________________________________________________________________________________\n",
      "de_leaky_1 (LeakyReLU)          (None, 16, 16, 128)  0           deconv_1[0][0]                   \n",
      "__________________________________________________________________________________________________\n",
      "deconv_2 (Conv2DTranspose)      (None, 32, 32, 64)   73792       de_leaky_1[0][0]                 \n",
      "__________________________________________________________________________________________________\n",
      "de_leaky_2 (LeakyReLU)          (None, 32, 32, 64)   0           deconv_2[0][0]                   \n",
      "__________________________________________________________________________________________________\n",
      "deconv_3 (Conv2DTranspose)      (None, 64, 64, 32)   18464       de_leaky_2[0][0]                 \n",
      "__________________________________________________________________________________________________\n",
      "de_leaky_3 (LeakyReLU)          (None, 64, 64, 32)   0           deconv_3[0][0]                   \n",
      "__________________________________________________________________________________________________\n",
      "decoder_deconv_output (Conv2DTr (None, 64, 64, 3)    99          de_leaky_3[0][0]                 \n",
      "__________________________________________________________________________________________________\n",
      "encoder_conv_1 (Conv2D)         (None, 64, 64, 32)   2432        decoder_deconv_output[0][0]      \n",
      "__________________________________________________________________________________________________\n",
      "leaky_re_lu_1 (LeakyReLU)       (None, 64, 64, 32)   0           encoder_conv_1[0][0]             \n",
      "__________________________________________________________________________________________________\n",
      "f_conv_1 (Conv2D)               (None, 64, 64, 32)   2432        decoder_deconv_output[0][0]      \n",
      "__________________________________________________________________________________________________\n",
      "encoder_conv_2 (Conv2D)         (None, 32, 32, 64)   18496       leaky_re_lu_1[0][0]              \n",
      "__________________________________________________________________________________________________\n",
      "f_leaky_1 (LeakyReLU)           (None, 64, 64, 32)   0           f_conv_1[0][0]                   \n",
      "__________________________________________________________________________________________________\n",
      "encoder_norm_1 (BatchNormalizat (None, 32, 32, 64)   256         encoder_conv_2[0][0]             \n",
      "__________________________________________________________________________________________________\n",
      "f_conv_2 (Conv2D)               (None, 32, 32, 64)   18496       f_leaky_1[0][0]                  \n",
      "__________________________________________________________________________________________________\n",
      "leaky_re_lu_2 (LeakyReLU)       (None, 32, 32, 64)   0           encoder_norm_1[0][0]             \n",
      "__________________________________________________________________________________________________\n",
      "f_norm_1 (BatchNormalization)   (None, 32, 32, 64)   256         f_conv_2[0][0]                   \n",
      "__________________________________________________________________________________________________\n",
      "encoder_conv_3 (Conv2D)         (None, 16, 16, 128)  73856       leaky_re_lu_2[0][0]              \n",
      "__________________________________________________________________________________________________\n",
      "f_leaky_2 (LeakyReLU)           (None, 32, 32, 64)   0           f_norm_1[0][0]                   \n",
      "__________________________________________________________________________________________________\n",
      "encoder_norm_2 (BatchNormalizat (None, 16, 16, 128)  512         encoder_conv_3[0][0]             \n",
      "__________________________________________________________________________________________________\n",
      "f_conv_3 (Conv2D)               (None, 16, 16, 128)  73856       f_leaky_2[0][0]                  \n",
      "__________________________________________________________________________________________________\n",
      "leaky_re_lu_3 (LeakyReLU)       (None, 16, 16, 128)  0           encoder_norm_2[0][0]             \n",
      "__________________________________________________________________________________________________\n",
      "f_norm_2 (BatchNormalization)   (None, 16, 16, 128)  512         f_conv_3[0][0]                   \n",
      "__________________________________________________________________________________________________\n",
      "conv_41 (Conv2D)                (None, 8, 8, 128)    147584      leaky_re_lu_3[0][0]              \n",
      "__________________________________________________________________________________________________\n",
      "f_leaky_3 (LeakyReLU)           (None, 16, 16, 128)  0           f_norm_2[0][0]                   \n",
      "__________________________________________________________________________________________________\n",
      "encoder_norm_3 (BatchNormalizat (None, 8, 8, 128)    512         conv_41[0][0]                    \n",
      "__________________________________________________________________________________________________\n",
      "f_conv_4 (Conv2D)               (None, 8, 8, 128)    147584      f_leaky_3[0][0]                  \n",
      "__________________________________________________________________________________________________\n",
      "leaky_re_lu_4 (LeakyReLU)       (None, 8, 8, 128)    0           encoder_norm_3[0][0]             \n",
      "__________________________________________________________________________________________________\n",
      "f_norm_3 (BatchNormalization)   (None, 8, 8, 128)    512         f_conv_4[0][0]                   \n",
      "__________________________________________________________________________________________________\n",
      "encoder_output (Flatten)        (None, 8192)         0           leaky_re_lu_4[0][0]              \n",
      "__________________________________________________________________________________________________\n",
      "feature_output (LeakyReLU)      (None, 8, 8, 128)    0           f_norm_3[0][0]                   \n",
      "==================================================================================================\n",
      "Total params: 970,883\n",
      "Trainable params: 968,963\n",
      "Non-trainable params: 1,920\n",
      "__________________________________________________________________________________________________\n",
      "None\n"
     ]
    }
   ],
   "source": [
    "height = 64\n",
    "width = 64\n",
    "channels = 3\n",
    "\n",
    "input_layer = layers.Input(name='input', shape=(height, width, channels))\n",
    "\n",
    "# Encoder\n",
    "x = layers.Conv2D(32, (5,5), strides=(1,1), padding='same', name='conv_1', kernel_regularizer = 'l2')(input_layer)\n",
    "x = layers.LeakyReLU(name='leaky_1')(x)\n",
    "\n",
    "x = layers.Conv2D(64, (3,3), strides=(2,2), padding='same', name='conv_2', kernel_regularizer = 'l2')(x)\n",
    "x = layers.BatchNormalization(name='norm_1')(x)\n",
    "x = layers.LeakyReLU(name='leaky_2')(x)\n",
    "\n",
    "\n",
    "x = layers.Conv2D(128, (3,3), strides=(2,2), padding='same', name='conv_3', kernel_regularizer = 'l2')(x)\n",
    "x = layers.BatchNormalization(name='norm_2')(x)\n",
    "x = layers.LeakyReLU(name='leaky_3')(x)\n",
    "\n",
    "\n",
    "x = layers.Conv2D(128, (3,3), strides=(2,2), padding='same', name='conv_4', kernel_regularizer = 'l2')(x)\n",
    "x = layers.BatchNormalization(name='norm_3')(x)\n",
    "x = layers.LeakyReLU(name='leaky_4')(x)\n",
    "\n",
    "x = layers.Flatten(name='g_encoder_output')(x)\n",
    "\n",
    "\n",
    "# Decoder\n",
    "y = layers.Reshape((8, 8, 128), name='de_reshape')(x)\n",
    "\n",
    "y = layers.Conv2DTranspose(128, (3,3), strides=(2,2), padding='same', name='deconv_1', kernel_regularizer = 'l2')(y)\n",
    "y = layers.LeakyReLU(name='de_leaky_1')(y)\n",
    "\n",
    "y = layers.Conv2DTranspose(64, (3,3), strides=(2,2), padding='same', name='deconv_2', kernel_regularizer = 'l2')(y)\n",
    "y = layers.LeakyReLU(name='de_leaky_2')(y)\n",
    "\n",
    "y = layers.Conv2DTranspose(32, (3,3), strides=(2,2), padding='same', name='deconv_3', kernel_regularizer = 'l2')(y)\n",
    "y = layers.LeakyReLU(name='de_leaky_3')(y)\n",
    "\n",
    "y = layers.Conv2DTranspose(channels, (1, 1), strides=(1,1), padding='same', name='decoder_deconv_output', kernel_regularizer = 'l2', activation='tanh')(y)\n",
    "\n",
    "# #encoder\n",
    "z = layers.Conv2D(32, (5,5), strides=(1,1), padding='same', name='encoder_conv_1', kernel_regularizer = 'l2')(y)\n",
    "z = layers.LeakyReLU()(z)\n",
    "\n",
    "z = layers.Conv2D(64, (3,3), strides=(2,2), padding='same', name='encoder_conv_2', kernel_regularizer = 'l2')(z)\n",
    "z = layers.BatchNormalization(name='encoder_norm_1')(z)\n",
    "z = layers.LeakyReLU()(z)\n",
    "\n",
    "\n",
    "z = layers.Conv2D(128, (3,3), strides=(2,2), padding='same', name='encoder_conv_3', kernel_regularizer = 'l2')(z)\n",
    "z = layers.BatchNormalization(name='encoder_norm_2')(z)\n",
    "z = layers.LeakyReLU()(z)\n",
    "\n",
    "\n",
    "z = layers.Conv2D(128, (3,3), strides=(2,2), padding='same', name='conv_41', kernel_regularizer = 'l2')(z)\n",
    "z = layers.BatchNormalization(name='encoder_norm_3')(z)\n",
    "z = layers.LeakyReLU()(z)\n",
    "\n",
    "z = layers.Flatten(name='encoder_output')(z)\n",
    "\n",
    "\n",
    "# feature extractor\n",
    "f = layers.Conv2D(32, (5,5), strides=(1,1), padding='same', name='f_conv_1', kernel_regularizer = 'l2')(y)\n",
    "f = layers.LeakyReLU(name='f_leaky_1')(f)\n",
    "\n",
    "f = layers.Conv2D(64, (3,3), strides=(2,2), padding='same', name='f_conv_2', kernel_regularizer = 'l2')(f)\n",
    "f = layers.BatchNormalization(name='f_norm_1')(f)\n",
    "f = layers.LeakyReLU(name='f_leaky_2')(f)\n",
    "\n",
    "\n",
    "f = layers.Conv2D(128, (3,3), strides=(2,2), padding='same', name='f_conv_3', kernel_regularizer = 'l2')(f)\n",
    "f = layers.BatchNormalization(name='f_norm_2')(f)\n",
    "f = layers.LeakyReLU(name='f_leaky_3')(f)\n",
    "\n",
    "\n",
    "f = layers.Conv2D(128, (3,3), strides=(2,2), padding='same', name='f_conv_4', kernel_regularizer = 'l2')(f)\n",
    "f = layers.BatchNormalization(name='f_norm_3')(f)\n",
    "f = layers.LeakyReLU(name='feature_output')(f)\n",
    "\n",
    "autoencoder = keras.models.Model(inputs=input_layer, outputs=[y, z, f])\n",
    "\n",
    "print(autoencoder.summary())"
   ]
  },
  {
   "cell_type": "markdown",
   "metadata": {},
   "source": [
    "## encoder"
   ]
  },
  {
   "cell_type": "code",
   "execution_count": 5,
   "metadata": {},
   "outputs": [
    {
     "name": "stdout",
     "output_type": "stream",
     "text": [
      "_________________________________________________________________\n",
      "Layer (type)                 Output Shape              Param #   \n",
      "=================================================================\n",
      "input (InputLayer)           (None, 64, 64, 3)         0         \n",
      "_________________________________________________________________\n",
      "conv_1 (Conv2D)              (None, 64, 64, 32)        2432      \n",
      "_________________________________________________________________\n",
      "leaky_1 (LeakyReLU)          (None, 64, 64, 32)        0         \n",
      "_________________________________________________________________\n",
      "conv_2 (Conv2D)              (None, 32, 32, 64)        18496     \n",
      "_________________________________________________________________\n",
      "norm_1 (BatchNormalization)  (None, 32, 32, 64)        256       \n",
      "_________________________________________________________________\n",
      "leaky_2 (LeakyReLU)          (None, 32, 32, 64)        0         \n",
      "_________________________________________________________________\n",
      "conv_3 (Conv2D)              (None, 16, 16, 128)       73856     \n",
      "_________________________________________________________________\n",
      "norm_2 (BatchNormalization)  (None, 16, 16, 128)       512       \n",
      "_________________________________________________________________\n",
      "leaky_3 (LeakyReLU)          (None, 16, 16, 128)       0         \n",
      "_________________________________________________________________\n",
      "conv_4 (Conv2D)              (None, 8, 8, 128)         147584    \n",
      "_________________________________________________________________\n",
      "norm_3 (BatchNormalization)  (None, 8, 8, 128)         512       \n",
      "_________________________________________________________________\n",
      "leaky_4 (LeakyReLU)          (None, 8, 8, 128)         0         \n",
      "_________________________________________________________________\n",
      "g_encoder_output (Flatten)   (None, 8192)              0         \n",
      "=================================================================\n",
      "Total params: 243,648\n",
      "Trainable params: 243,008\n",
      "Non-trainable params: 640\n",
      "_________________________________________________________________\n",
      "None\n"
     ]
    }
   ],
   "source": [
    "encoder = keras.models.Model(inputs=autoencoder.input, outputs=autoencoder.get_layer('g_encoder_output').output)\n",
    "print(encoder.summary())"
   ]
  },
  {
   "cell_type": "markdown",
   "metadata": {},
   "source": [
    "### Feature Extractor"
   ]
  },
  {
   "cell_type": "code",
   "execution_count": 6,
   "metadata": {},
   "outputs": [
    {
     "name": "stdout",
     "output_type": "stream",
     "text": [
      "_________________________________________________________________\n",
      "Layer (type)                 Output Shape              Param #   \n",
      "=================================================================\n",
      "input (InputLayer)           (None, 64, 64, 3)         0         \n",
      "_________________________________________________________________\n",
      "f_conv_1 (Conv2D)            (None, 64, 64, 32)        2432      \n",
      "_________________________________________________________________\n",
      "f_leaky_1 (LeakyReLU)        (None, 64, 64, 32)        0         \n",
      "_________________________________________________________________\n",
      "f_conv_2 (Conv2D)            (None, 32, 32, 64)        18496     \n",
      "_________________________________________________________________\n",
      "f_norm_1 (BatchNormalization (None, 32, 32, 64)        256       \n",
      "_________________________________________________________________\n",
      "f_leaky_2 (LeakyReLU)        (None, 32, 32, 64)        0         \n",
      "_________________________________________________________________\n",
      "f_conv_3 (Conv2D)            (None, 16, 16, 128)       73856     \n",
      "_________________________________________________________________\n",
      "f_norm_2 (BatchNormalization (None, 16, 16, 128)       512       \n",
      "_________________________________________________________________\n",
      "f_leaky_3 (LeakyReLU)        (None, 16, 16, 128)       0         \n",
      "_________________________________________________________________\n",
      "f_conv_4 (Conv2D)            (None, 8, 8, 128)         147584    \n",
      "_________________________________________________________________\n",
      "f_norm_3 (BatchNormalization (None, 8, 8, 128)         512       \n",
      "_________________________________________________________________\n",
      "feature_output (LeakyReLU)   (None, 8, 8, 128)         0         \n",
      "=================================================================\n",
      "Total params: 243,648\n",
      "Trainable params: 243,008\n",
      "Non-trainable params: 640\n",
      "_________________________________________________________________\n",
      "None\n"
     ]
    }
   ],
   "source": [
    "decoded_input = layers.Input(name='input', shape=(height, width, channels))\n",
    "\n",
    "f = autoencoder.get_layer('f_conv_1')(decoded_input)\n",
    "f = autoencoder.get_layer('f_leaky_1')(f)\n",
    "\n",
    "f = autoencoder.get_layer('f_conv_2')(f)\n",
    "f = autoencoder.get_layer('f_norm_1')(f)\n",
    "f = autoencoder.get_layer('f_leaky_2')(f)\n",
    "\n",
    "f = autoencoder.get_layer('f_conv_3')(f)\n",
    "f = autoencoder.get_layer('f_norm_2')(f)\n",
    "f = autoencoder.get_layer('f_leaky_3')(f)\n",
    "\n",
    "f = autoencoder.get_layer('f_conv_4')(f)\n",
    "f = autoencoder.get_layer('f_norm_3')(f)\n",
    "f = autoencoder.get_layer('feature_output')(f)\n",
    "    \n",
    "feature_extractor = keras.models.Model(decoded_input, f)\n",
    "print(feature_extractor.summary())"
   ]
  },
  {
   "cell_type": "markdown",
   "metadata": {},
   "source": [
    "### EncodeDecoder"
   ]
  },
  {
   "cell_type": "code",
   "execution_count": 7,
   "metadata": {},
   "outputs": [],
   "source": [
    "encoddecoderencoder = keras.models.Model(inputs=autoencoder.input, outputs=autoencoder.get_layer('encoder_output').output)"
   ]
  },
  {
   "cell_type": "markdown",
   "metadata": {},
   "source": [
    "### Loss and Compile"
   ]
  },
  {
   "cell_type": "code",
   "execution_count": 8,
   "metadata": {},
   "outputs": [],
   "source": [
    "losses = {\n",
    "    'decoder_deconv_output': keras.losses.mean_absolute_error,\n",
    "    'encoder_output': keras.losses.mean_squared_error,\n",
    "    'feature_output': keras.losses.mean_squared_error,\n",
    "}\n",
    "lossWeights = {'decoder_deconv_output': 5.0, 'encoder_output': 1.0, 'feature_output': 1.0}\n",
    "autoencoder.compile(optimizer = \"adam\", loss=losses, loss_weights=lossWeights)"
   ]
  },
  {
   "cell_type": "markdown",
   "metadata": {},
   "source": [
    "# read data"
   ]
  },
  {
   "cell_type": "code",
   "execution_count": 9,
   "metadata": {},
   "outputs": [],
   "source": [
    "# files = glob.glob('/home/jovyan/anomaly_detection/data/*/0/*.png')\n",
    "# np.random.shuffle(files)"
   ]
  },
  {
   "cell_type": "code",
   "execution_count": 10,
   "metadata": {},
   "outputs": [],
   "source": [
    "# trina_files = files[:10000]"
   ]
  },
  {
   "cell_type": "code",
   "execution_count": 11,
   "metadata": {},
   "outputs": [],
   "source": [
    "# val_files = files[10000:10100]"
   ]
  },
  {
   "cell_type": "code",
   "execution_count": 12,
   "metadata": {},
   "outputs": [],
   "source": [
    "# trina_data = np.empty((len(trina_files), 64, 64, 3))\n",
    "# skip = 0\n",
    "# for i, p in enumerate(trina_files):\n",
    "#     img = cv2.imread(p)\n",
    "#     if img.shape != (50, 50, 3):\n",
    "#         skip += 1\n",
    "#         continue\n",
    "#     trina_data[i-skip] = cv2.resize(img, (64, 64))[:, :, ::-1] / 127 - 1\n",
    "# if skip > 0:\n",
    "#     trina_data = trina_data[:-skip]"
   ]
  },
  {
   "cell_type": "code",
   "execution_count": 13,
   "metadata": {},
   "outputs": [],
   "source": [
    "# val_data = np.empty((len(val_files), 64, 64, 3))\n",
    "# skip = 0\n",
    "# for i, p in enumerate(val_files):\n",
    "#     img = cv2.imread(p)\n",
    "#     if img.shape != (50, 50, 3):\n",
    "#         skip += 1\n",
    "#         continue\n",
    "#     val_data[i-skip] = cv2.resize(img, (64, 64))[:, :, ::-1] / 127 - 1\n",
    "# if skip > 0:\n",
    "#     val_data = val_data[:-skip]"
   ]
  },
  {
   "cell_type": "code",
   "execution_count": 14,
   "metadata": {},
   "outputs": [],
   "source": [
    "# print(len(trina_data))\n",
    "# print(len(val_data))"
   ]
  },
  {
   "cell_type": "code",
   "execution_count": 15,
   "metadata": {},
   "outputs": [],
   "source": [
    "nepoch = 100\n",
    "batch_size = 32"
   ]
  },
  {
   "cell_type": "code",
   "execution_count": 41,
   "metadata": {},
   "outputs": [],
   "source": [
    "from keras.datasets import mnist\n",
    "(x_train, y_train), (x_test, y_test) = mnist.load_data()\n",
    "x_ok = x_train[y_train == 1]\n",
    "# x_test = x_test[(y_test == 7) | (y_test == 1)]\n",
    "# y_test = y_test[(y_test == 7) | (y_test == 1)]"
   ]
  },
  {
   "cell_type": "code",
   "execution_count": 43,
   "metadata": {},
   "outputs": [],
   "source": [
    "def reshape_x(x, size):\n",
    "    new_x = np.empty((len(x), size, size))\n",
    "\n",
    "    for i, e in enumerate(x):\n",
    "        cv2.resize(e, (size, size))\n",
    "        new_x[i] = cv2.resize(e, (size, size))\n",
    "        \n",
    "        \n",
    "    new_x = np.expand_dims(new_x, axis=-1)\n",
    "    new_x = np.repeat(new_x, 3, axis=-1)\n",
    "    return (new_x / 127) - 1"
   ]
  },
  {
   "cell_type": "code",
   "execution_count": 44,
   "metadata": {},
   "outputs": [],
   "source": [
    "x_ok = reshape_x(x_ok, 64)\n",
    "x_test = reshape_x(x_test, 64)"
   ]
  },
  {
   "cell_type": "code",
   "execution_count": 45,
   "metadata": {},
   "outputs": [
    {
     "name": "stdout",
     "output_type": "stream",
     "text": [
      "6742 5393 1349\n"
     ]
    }
   ],
   "source": [
    "np.random.shuffle(x_ok)\n",
    "train_x = x_ok[:int(6742*0.8)]\n",
    "val_x = x_ok[int(6742*0.8):]\n",
    "print(len(x_ok), len(train_x), len(val_x))"
   ]
  },
  {
   "cell_type": "code",
   "execution_count": 46,
   "metadata": {},
   "outputs": [
    {
     "name": "stdout",
     "output_type": "stream",
     "text": [
      "1.0078740157480315 -1.0\n"
     ]
    }
   ],
   "source": [
    "print(x_ok.max(), x_ok.min())"
   ]
  },
  {
   "cell_type": "code",
   "execution_count": 21,
   "metadata": {},
   "outputs": [],
   "source": [
    "def data_generator(data, batch_size=32):\n",
    "    datalen = len(data)\n",
    "    cnt = 0\n",
    "    while True:\n",
    "        idxes = np.arange(datalen)\n",
    "        np.random.shuffle(idxes)\n",
    "        cnt += 1\n",
    "        for i in range(int(np.ceil(datalen/batch_size))):\n",
    "            train_x = np.take(data, idxes[i*batch_size: (i+1) * batch_size], axis=0)\n",
    "            train_y = {\n",
    "                'decoder_deconv_output': train_x,\n",
    "                'encoder_output': encoder.predict(train_x),\n",
    "                'feature_output': feature_extractor.predict(train_x),\n",
    "            }\n",
    "            yield train_x, train_y\n"
   ]
  },
  {
   "cell_type": "code",
   "execution_count": 22,
   "metadata": {},
   "outputs": [
    {
     "data": {
      "text/plain": [
       "(1, 8192)"
      ]
     },
     "execution_count": 22,
     "metadata": {},
     "output_type": "execute_result"
    }
   ],
   "source": [
    "encoder.predict(x_ok[:1]).shape"
   ]
  },
  {
   "cell_type": "code",
   "execution_count": 23,
   "metadata": {},
   "outputs": [
    {
     "data": {
      "text/plain": [
       "(1, 8, 8, 128)"
      ]
     },
     "execution_count": 23,
     "metadata": {},
     "output_type": "execute_result"
    }
   ],
   "source": [
    "feature_extractor.predict(x_ok[:1]).shape"
   ]
  },
  {
   "cell_type": "markdown",
   "metadata": {},
   "source": [
    "# train"
   ]
  },
  {
   "cell_type": "code",
   "execution_count": 24,
   "metadata": {},
   "outputs": [
    {
     "name": "stdout",
     "output_type": "stream",
     "text": [
      "Epoch 1/100\n",
      "168/168 [==============================] - 10s 57ms/step - loss: 5.8747 - decoder_deconv_output_loss: 0.0768 - encoder_output_loss: 0.1871 - feature_output_loss: 2.5531 - val_loss: 4.3139 - val_decoder_deconv_output_loss: 0.6744 - val_encoder_output_loss: 0.0552 - val_feature_output_loss: 0.3342\n",
      "Epoch 2/100\n",
      "168/168 [==============================] - 7s 40ms/step - loss: 0.6547 - decoder_deconv_output_loss: 0.0204 - encoder_output_loss: 0.0624 - feature_output_loss: 0.1316 - val_loss: 2.7427 - val_decoder_deconv_output_loss: 0.3645 - val_encoder_output_loss: 0.6343 - val_feature_output_loss: 0.0172\n",
      "Epoch 3/100\n",
      "168/168 [==============================] - 7s 40ms/step - loss: 1.1237 - decoder_deconv_output_loss: 0.0193 - encoder_output_loss: 0.0327 - feature_output_loss: 0.7650 - val_loss: 140.9075 - val_decoder_deconv_output_loss: 0.0852 - val_encoder_output_loss: 0.1241 - val_feature_output_loss: 140.0525\n",
      "Epoch 4/100\n",
      "168/168 [==============================] - 7s 40ms/step - loss: 2528.7217 - decoder_deconv_output_loss: 0.0384 - encoder_output_loss: 116.2918 - feature_output_loss: 2411.3530 - val_loss: 130.2598 - val_decoder_deconv_output_loss: 0.1223 - val_encoder_output_loss: 0.1406 - val_feature_output_loss: 129.1575\n",
      "Epoch 5/100\n",
      "168/168 [==============================] - 7s 40ms/step - loss: 0.7104 - decoder_deconv_output_loss: 0.0185 - encoder_output_loss: 0.0866 - feature_output_loss: 0.2819 - val_loss: 1.0515 - val_decoder_deconv_output_loss: 0.1633 - val_encoder_output_loss: 0.0418 - val_feature_output_loss: 0.0051\n",
      "Epoch 6/100\n",
      "168/168 [==============================] - 7s 40ms/step - loss: 0.5797 - decoder_deconv_output_loss: 0.0181 - encoder_output_loss: 0.0941 - feature_output_loss: 0.2243 - val_loss: 1.0044 - val_decoder_deconv_output_loss: 0.1411 - val_encoder_output_loss: 0.0374 - val_feature_output_loss: 0.0983\n",
      "Epoch 7/100\n",
      "168/168 [==============================] - 7s 40ms/step - loss: 5.7154 - decoder_deconv_output_loss: 0.0208 - encoder_output_loss: 0.2735 - feature_output_loss: 5.0804 - val_loss: 15.1532 - val_decoder_deconv_output_loss: 0.0370 - val_encoder_output_loss: 11.0962 - val_feature_output_loss: 3.3319\n",
      "Epoch 8/100\n",
      "168/168 [==============================] - 7s 40ms/step - loss: 2.0002 - decoder_deconv_output_loss: 0.0182 - encoder_output_loss: 0.1859 - feature_output_loss: 1.4677 - val_loss: 4.1449 - val_decoder_deconv_output_loss: 0.0487 - val_encoder_output_loss: 0.5637 - val_feature_output_loss: 3.1813\n",
      "Epoch 9/100\n",
      "168/168 [==============================] - 7s 40ms/step - loss: 0.4091 - decoder_deconv_output_loss: 0.0171 - encoder_output_loss: 0.0488 - feature_output_loss: 0.1276 - val_loss: 1.5860 - val_decoder_deconv_output_loss: 0.0339 - val_encoder_output_loss: 1.2547 - val_feature_output_loss: 0.0073\n",
      "Epoch 10/100\n",
      "168/168 [==============================] - 7s 40ms/step - loss: 494.2744 - decoder_deconv_output_loss: 0.0344 - encoder_output_loss: 493.2892 - feature_output_loss: 0.2079 - val_loss: 2572.6898 - val_decoder_deconv_output_loss: 0.0838 - val_encoder_output_loss: 2569.2607 - val_feature_output_loss: 0.0123\n",
      "Epoch 11/100\n",
      "168/168 [==============================] - 7s 40ms/step - loss: 11.1552 - decoder_deconv_output_loss: 0.0266 - encoder_output_loss: 9.5892 - feature_output_loss: 0.0899 - val_loss: 12.3178 - val_decoder_deconv_output_loss: 0.1449 - val_encoder_output_loss: 11.0986 - val_feature_output_loss: 0.0162\n",
      "Epoch 12/100\n",
      "168/168 [==============================] - 7s 40ms/step - loss: 0.7497 - decoder_deconv_output_loss: 0.0177 - encoder_output_loss: 0.2040 - feature_output_loss: 0.1410 - val_loss: 114.1917 - val_decoder_deconv_output_loss: 0.1488 - val_encoder_output_loss: 0.1056 - val_feature_output_loss: 113.0788\n",
      "Epoch 13/100\n",
      "168/168 [==============================] - 7s 40ms/step - loss: 2712.1544 - decoder_deconv_output_loss: 0.0319 - encoder_output_loss: 0.5235 - feature_output_loss: 2710.8793 - val_loss: 30.0381 - val_decoder_deconv_output_loss: 0.1252 - val_encoder_output_loss: 0.0925 - val_feature_output_loss: 29.0400\n",
      "Epoch 14/100\n",
      "168/168 [==============================] - 7s 40ms/step - loss: 0.8255 - decoder_deconv_output_loss: 0.0168 - encoder_output_loss: 0.1697 - feature_output_loss: 0.3697 - val_loss: 0.9968 - val_decoder_deconv_output_loss: 0.1385 - val_encoder_output_loss: 0.1105 - val_feature_output_loss: 0.0181\n",
      "Epoch 15/100\n",
      "168/168 [==============================] - 7s 40ms/step - loss: 0.6461 - decoder_deconv_output_loss: 0.0159 - encoder_output_loss: 0.1572 - feature_output_loss: 0.2419 - val_loss: 1.9655 - val_decoder_deconv_output_loss: 0.0718 - val_encoder_output_loss: 0.2530 - val_feature_output_loss: 1.1637\n",
      "Epoch 16/100\n",
      "168/168 [==============================] - 7s 40ms/step - loss: 3.1652 - decoder_deconv_output_loss: 0.0169 - encoder_output_loss: 0.1395 - feature_output_loss: 2.7186 - val_loss: 1.6517 - val_decoder_deconv_output_loss: 0.0236 - val_encoder_output_loss: 0.1963 - val_feature_output_loss: 1.1577\n",
      "Epoch 17/100\n",
      "168/168 [==============================] - 7s 41ms/step - loss: 3.6032 - decoder_deconv_output_loss: 0.0225 - encoder_output_loss: 3.0128 - feature_output_loss: 0.2169 - val_loss: 60.3449 - val_decoder_deconv_output_loss: 0.7790 - val_encoder_output_loss: 55.8326 - val_feature_output_loss: 0.0888\n",
      "Epoch 18/100\n",
      "168/168 [==============================] - 7s 40ms/step - loss: 9.8025 - decoder_deconv_output_loss: 0.0256 - encoder_output_loss: 8.6628 - feature_output_loss: 0.3880 - val_loss: 9.7056 - val_decoder_deconv_output_loss: 0.0677 - val_encoder_output_loss: 8.6364 - val_feature_output_loss: 0.4345\n",
      "Epoch 19/100\n",
      "168/168 [==============================] - 7s 41ms/step - loss: 4717.5739 - decoder_deconv_output_loss: 0.1909 - encoder_output_loss: 4085.3247 - feature_output_loss: 628.2395 - val_loss: 356.5816 - val_decoder_deconv_output_loss: 0.2726 - val_encoder_output_loss: 335.2588 - val_feature_output_loss: 12.7155\n",
      "Epoch 20/100\n",
      "168/168 [==============================] - 7s 41ms/step - loss: 15.5589 - decoder_deconv_output_loss: 0.0822 - encoder_output_loss: 8.9185 - feature_output_loss: 2.9930 - val_loss: 24.3020 - val_decoder_deconv_output_loss: 0.1031 - val_encoder_output_loss: 16.6138 - val_feature_output_loss: 5.8302\n",
      "Epoch 21/100\n",
      "168/168 [==============================] - 7s 41ms/step - loss: 1.8061 - decoder_deconv_output_loss: 0.0243 - encoder_output_loss: 0.5881 - feature_output_loss: 0.2471 - val_loss: 1.4459 - val_decoder_deconv_output_loss: 0.1289 - val_encoder_output_loss: 0.2327 - val_feature_output_loss: 0.0109\n",
      "Epoch 22/100\n",
      "168/168 [==============================] - 7s 41ms/step - loss: 1.3559 - decoder_deconv_output_loss: 0.0198 - encoder_output_loss: 0.5335 - feature_output_loss: 0.2756 - val_loss: 1.4316 - val_decoder_deconv_output_loss: 0.1236 - val_encoder_output_loss: 0.1954 - val_feature_output_loss: 0.2294\n",
      "Epoch 23/100\n",
      "168/168 [==============================] - 7s 41ms/step - loss: 1.1506 - decoder_deconv_output_loss: 0.0185 - encoder_output_loss: 0.5163 - feature_output_loss: 0.2142 - val_loss: 1.7114 - val_decoder_deconv_output_loss: 0.1651 - val_encoder_output_loss: 0.3529 - val_feature_output_loss: 0.2531\n",
      "Epoch 24/100\n",
      "168/168 [==============================] - 7s 41ms/step - loss: 1.4977 - decoder_deconv_output_loss: 0.0195 - encoder_output_loss: 0.8418 - feature_output_loss: 0.1882 - val_loss: 1.2729 - val_decoder_deconv_output_loss: 0.1036 - val_encoder_output_loss: 0.2891 - val_feature_output_loss: 0.1443\n",
      "Epoch 25/100\n",
      "168/168 [==============================] - 7s 41ms/step - loss: 3.6811 - decoder_deconv_output_loss: 0.0198 - encoder_output_loss: 0.8021 - feature_output_loss: 2.3687 - val_loss: 1.0099 - val_decoder_deconv_output_loss: 0.0791 - val_encoder_output_loss: 0.2312 - val_feature_output_loss: 0.0624\n",
      "Epoch 26/100\n",
      "168/168 [==============================] - 7s 40ms/step - loss: 1.0104 - decoder_deconv_output_loss: 0.0181 - encoder_output_loss: 0.4698 - feature_output_loss: 0.2049 - val_loss: 1.2807 - val_decoder_deconv_output_loss: 0.0760 - val_encoder_output_loss: 0.6568 - val_feature_output_loss: 0.0404\n",
      "Epoch 27/100\n",
      "168/168 [==============================] - 7s 41ms/step - loss: 26.1285 - decoder_deconv_output_loss: 0.0235 - encoder_output_loss: 3.5183 - feature_output_loss: 22.1662 - val_loss: 735.3310 - val_decoder_deconv_output_loss: 0.0796 - val_encoder_output_loss: 4.5829 - val_feature_output_loss: 729.3910\n",
      "Epoch 28/100\n",
      "168/168 [==============================] - 7s 41ms/step - loss: 1034.1931 - decoder_deconv_output_loss: 0.0269 - encoder_output_loss: 1.1644 - feature_output_loss: 1031.6929 - val_loss: 760.2553 - val_decoder_deconv_output_loss: 0.0324 - val_encoder_output_loss: 1.7658 - val_feature_output_loss: 757.8270\n",
      "Epoch 29/100\n",
      "168/168 [==============================] - 7s 40ms/step - loss: 1.0495 - decoder_deconv_output_loss: 0.0179 - encoder_output_loss: 0.2484 - feature_output_loss: 0.3869 - val_loss: 1.1616 - val_decoder_deconv_output_loss: 0.1251 - val_encoder_output_loss: 0.2710 - val_feature_output_loss: 0.0547\n",
      "Epoch 30/100\n",
      "168/168 [==============================] - 7s 41ms/step - loss: 0.9498 - decoder_deconv_output_loss: 0.0166 - encoder_output_loss: 0.3233 - feature_output_loss: 0.3510 - val_loss: 0.9780 - val_decoder_deconv_output_loss: 0.0931 - val_encoder_output_loss: 0.3012 - val_feature_output_loss: 0.0253\n",
      "Epoch 31/100\n",
      "168/168 [==============================] - 7s 40ms/step - loss: 1.0065 - decoder_deconv_output_loss: 0.0174 - encoder_output_loss: 0.5143 - feature_output_loss: 0.2002 - val_loss: 6.9438 - val_decoder_deconv_output_loss: 0.1493 - val_encoder_output_loss: 5.8493 - val_feature_output_loss: 0.0914\n",
      "Epoch 32/100\n",
      "168/168 [==============================] - 7s 41ms/step - loss: 3.0359 - decoder_deconv_output_loss: 0.0224 - encoder_output_loss: 2.3535 - feature_output_loss: 0.1669 - val_loss: 1.3964 - val_decoder_deconv_output_loss: 0.0228 - val_encoder_output_loss: 0.8490 - val_feature_output_loss: 0.0970\n",
      "Epoch 33/100\n",
      "168/168 [==============================] - 7s 41ms/step - loss: 1.5078 - decoder_deconv_output_loss: 0.0211 - encoder_output_loss: 0.6650 - feature_output_loss: 0.3872 - val_loss: 1.1789 - val_decoder_deconv_output_loss: 0.0570 - val_encoder_output_loss: 0.4996 - val_feature_output_loss: 0.1523\n",
      "Epoch 34/100\n",
      "168/168 [==============================] - 7s 40ms/step - loss: 0.7690 - decoder_deconv_output_loss: 0.0173 - encoder_output_loss: 0.2435 - feature_output_loss: 0.2551 - val_loss: 2.5157 - val_decoder_deconv_output_loss: 0.0770 - val_encoder_output_loss: 1.4770 - val_feature_output_loss: 0.4368\n",
      "Epoch 35/100\n",
      "168/168 [==============================] - 7s 41ms/step - loss: 57.1548 - decoder_deconv_output_loss: 0.0220 - encoder_output_loss: 0.8526 - feature_output_loss: 55.8532 - val_loss: 1.3372 - val_decoder_deconv_output_loss: 0.0257 - val_encoder_output_loss: 0.6088 - val_feature_output_loss: 0.3901\n",
      "Epoch 36/100\n",
      "168/168 [==============================] - 7s 40ms/step - loss: 0.8715 - decoder_deconv_output_loss: 0.0163 - encoder_output_loss: 0.2585 - feature_output_loss: 0.3631 - val_loss: 1.0976 - val_decoder_deconv_output_loss: 0.0807 - val_encoder_output_loss: 0.4119 - val_feature_output_loss: 0.1453\n",
      "Epoch 37/100\n",
      "168/168 [==============================] - 7s 40ms/step - loss: 1.5461 - decoder_deconv_output_loss: 0.0199 - encoder_output_loss: 0.9256 - feature_output_loss: 0.2554 - val_loss: 245.2629 - val_decoder_deconv_output_loss: 0.0564 - val_encoder_output_loss: 244.5283 - val_feature_output_loss: 0.0224\n",
      "Epoch 38/100\n",
      "168/168 [==============================] - 7s 41ms/step - loss: 63.4816 - decoder_deconv_output_loss: 0.0443 - encoder_output_loss: 61.1471 - feature_output_loss: 0.4958 - val_loss: 18.1936 - val_decoder_deconv_output_loss: 0.0367 - val_encoder_output_loss: 4.2319 - val_feature_output_loss: 12.3403\n",
      "Epoch 39/100\n",
      "168/168 [==============================] - 7s 40ms/step - loss: 6396.0874 - decoder_deconv_output_loss: 0.2576 - encoder_output_loss: 136.3135 - feature_output_loss: 6248.5948 - val_loss: 24.4466 - val_decoder_deconv_output_loss: 0.1867 - val_encoder_output_loss: 1.2816 - val_feature_output_loss: 13.4055\n",
      "Epoch 40/100\n",
      "168/168 [==============================] - 7s 41ms/step - loss: 7.0242 - decoder_deconv_output_loss: 0.0685 - encoder_output_loss: 0.3251 - feature_output_loss: 0.4532 - val_loss: 4.9723 - val_decoder_deconv_output_loss: 0.0589 - val_encoder_output_loss: 0.4888 - val_feature_output_loss: 0.2703\n",
      "Epoch 41/100\n",
      "168/168 [==============================] - 7s 41ms/step - loss: 3.9329 - decoder_deconv_output_loss: 0.0502 - encoder_output_loss: 0.2879 - feature_output_loss: 0.4603 - val_loss: 2.8892 - val_decoder_deconv_output_loss: 0.0638 - val_encoder_output_loss: 0.2830 - val_feature_output_loss: 0.1131\n",
      "Epoch 42/100\n",
      "168/168 [==============================] - 7s 41ms/step - loss: 2.4944 - decoder_deconv_output_loss: 0.0307 - encoder_output_loss: 0.2607 - feature_output_loss: 0.3566 - val_loss: 2.0131 - val_decoder_deconv_output_loss: 0.0677 - val_encoder_output_loss: 0.2567 - val_feature_output_loss: 0.0612\n",
      "Epoch 43/100\n",
      "168/168 [==============================] - 7s 41ms/step - loss: 1.8005 - decoder_deconv_output_loss: 0.0215 - encoder_output_loss: 0.2397 - feature_output_loss: 0.3300 - val_loss: 1.6091 - val_decoder_deconv_output_loss: 0.0634 - val_encoder_output_loss: 0.3063 - val_feature_output_loss: 0.0539\n",
      "Epoch 44/100\n",
      "168/168 [==============================] - 7s 41ms/step - loss: 1.3767 - decoder_deconv_output_loss: 0.0198 - encoder_output_loss: 0.2332 - feature_output_loss: 0.2364 - val_loss: 1.6667 - val_decoder_deconv_output_loss: 0.0597 - val_encoder_output_loss: 0.6073 - val_feature_output_loss: 0.0643\n",
      "Epoch 45/100\n",
      "168/168 [==============================] - 7s 41ms/step - loss: 1.1281 - decoder_deconv_output_loss: 0.0188 - encoder_output_loss: 0.2387 - feature_output_loss: 0.1822 - val_loss: 3.1599 - val_decoder_deconv_output_loss: 0.0643 - val_encoder_output_loss: 2.1760 - val_feature_output_loss: 0.1108\n",
      "Epoch 46/100\n",
      "168/168 [==============================] - 7s 41ms/step - loss: 0.9051 - decoder_deconv_output_loss: 0.0181 - encoder_output_loss: 0.2446 - feature_output_loss: 0.0751 - val_loss: 6.1529 - val_decoder_deconv_output_loss: 0.0644 - val_encoder_output_loss: 5.2558 - val_feature_output_loss: 0.1217\n",
      "Epoch 47/100\n",
      "168/168 [==============================] - 7s 41ms/step - loss: 1.0011 - decoder_deconv_output_loss: 0.0204 - encoder_output_loss: 0.2338 - feature_output_loss: 0.2244 - val_loss: 1.2485 - val_decoder_deconv_output_loss: 0.0217 - val_encoder_output_loss: 0.4526 - val_feature_output_loss: 0.2448\n",
      "Epoch 48/100\n",
      "168/168 [==============================] - 7s 41ms/step - loss: 1.5008 - decoder_deconv_output_loss: 0.0226 - encoder_output_loss: 0.2431 - feature_output_loss: 0.7205 - val_loss: 139.8239 - val_decoder_deconv_output_loss: 0.0483 - val_encoder_output_loss: 136.1456 - val_feature_output_loss: 2.8892\n",
      "Epoch 49/100\n",
      "168/168 [==============================] - 7s 41ms/step - loss: 4.6261 - decoder_deconv_output_loss: 0.0224 - encoder_output_loss: 0.1906 - feature_output_loss: 3.8385 - val_loss: 2.1412 - val_decoder_deconv_output_loss: 0.0506 - val_encoder_output_loss: 0.3490 - val_feature_output_loss: 1.1976\n",
      "Epoch 50/100\n",
      "168/168 [==============================] - 7s 40ms/step - loss: 1.1061 - decoder_deconv_output_loss: 0.0175 - encoder_output_loss: 0.1960 - feature_output_loss: 0.5201 - val_loss: 2.4797 - val_decoder_deconv_output_loss: 0.0494 - val_encoder_output_loss: 0.3995 - val_feature_output_loss: 1.5114\n",
      "Epoch 51/100\n",
      "168/168 [==============================] - 7s 41ms/step - loss: 1.4028 - decoder_deconv_output_loss: 0.0194 - encoder_output_loss: 0.2372 - feature_output_loss: 0.7371 - val_loss: 4.3238 - val_decoder_deconv_output_loss: 0.0235 - val_encoder_output_loss: 3.0748 - val_feature_output_loss: 0.7896\n",
      "Epoch 52/100\n",
      "168/168 [==============================] - 7s 41ms/step - loss: 0.8904 - decoder_deconv_output_loss: 0.0187 - encoder_output_loss: 0.2198 - feature_output_loss: 0.2691 - val_loss: 0.7390 - val_decoder_deconv_output_loss: 0.0280 - val_encoder_output_loss: 0.3202 - val_feature_output_loss: 0.0285\n",
      "Epoch 53/100\n",
      "168/168 [==============================] - 7s 41ms/step - loss: 1.1281 - decoder_deconv_output_loss: 0.0232 - encoder_output_loss: 0.3537 - feature_output_loss: 0.3486 - val_loss: 16.3787 - val_decoder_deconv_output_loss: 0.0810 - val_encoder_output_loss: 15.2382 - val_feature_output_loss: 0.3775\n",
      "Epoch 54/100\n",
      "168/168 [==============================] - 7s 41ms/step - loss: 1.6013 - decoder_deconv_output_loss: 0.0226 - encoder_output_loss: 0.8135 - feature_output_loss: 0.3175 - val_loss: 0.9255 - val_decoder_deconv_output_loss: 0.0263 - val_encoder_output_loss: 0.4651 - val_feature_output_loss: 0.0784\n",
      "Epoch 55/100\n",
      "168/168 [==============================] - 7s 41ms/step - loss: 2.1280 - decoder_deconv_output_loss: 0.0203 - encoder_output_loss: 0.2171 - feature_output_loss: 1.5647 - val_loss: 4.6400 - val_decoder_deconv_output_loss: 0.0282 - val_encoder_output_loss: 1.2392 - val_feature_output_loss: 2.9258\n",
      "Epoch 56/100\n",
      "168/168 [==============================] - 7s 41ms/step - loss: 1.7064 - decoder_deconv_output_loss: 0.0188 - encoder_output_loss: 0.1560 - feature_output_loss: 1.2134 - val_loss: 5.4600 - val_decoder_deconv_output_loss: 0.0565 - val_encoder_output_loss: 0.4235 - val_feature_output_loss: 4.5507\n",
      "Epoch 57/100\n",
      "168/168 [==============================] - 7s 41ms/step - loss: 2.0699 - decoder_deconv_output_loss: 0.0235 - encoder_output_loss: 0.3962 - feature_output_loss: 1.2502 - val_loss: 1.4296 - val_decoder_deconv_output_loss: 0.0360 - val_encoder_output_loss: 0.2992 - val_feature_output_loss: 0.6680\n",
      "Epoch 58/100\n",
      "168/168 [==============================] - 7s 41ms/step - loss: 0.8869 - decoder_deconv_output_loss: 0.0191 - encoder_output_loss: 0.2134 - feature_output_loss: 0.3496 - val_loss: 2.0536 - val_decoder_deconv_output_loss: 0.0816 - val_encoder_output_loss: 0.4648 - val_feature_output_loss: 0.9337\n",
      "Epoch 59/100\n",
      "168/168 [==============================] - 7s 41ms/step - loss: 2094.8689 - decoder_deconv_output_loss: 0.0436 - encoder_output_loss: 13.8851 - feature_output_loss: 2080.1930 - val_loss: 15669.1218 - val_decoder_deconv_output_loss: 0.1344 - val_encoder_output_loss: 10470.0871 - val_feature_output_loss: 5195.1626\n",
      "Epoch 60/100\n",
      "168/168 [==============================] - 7s 40ms/step - loss: 2392.5680 - decoder_deconv_output_loss: 0.0537 - encoder_output_loss: 46.6885 - feature_output_loss: 2343.3666 - val_loss: 4648.9806 - val_decoder_deconv_output_loss: 0.0644 - val_encoder_output_loss: 88.8325 - val_feature_output_loss: 4558.9507\n",
      "Epoch 61/100\n",
      "168/168 [==============================] - 7s 41ms/step - loss: 2.0883 - decoder_deconv_output_loss: 0.0190 - encoder_output_loss: 0.2873 - feature_output_loss: 1.1587 - val_loss: 1.2521 - val_decoder_deconv_output_loss: 0.1141 - val_encoder_output_loss: 0.2740 - val_feature_output_loss: 0.0539\n",
      "Epoch 62/100\n",
      "168/168 [==============================] - 7s 41ms/step - loss: 1.4974 - decoder_deconv_output_loss: 0.0167 - encoder_output_loss: 0.2783 - feature_output_loss: 0.8572 - val_loss: 1.0440 - val_decoder_deconv_output_loss: 0.1246 - val_encoder_output_loss: 0.1620 - val_feature_output_loss: 0.0272\n",
      "Epoch 63/100\n",
      "168/168 [==============================] - 7s 41ms/step - loss: 1.2753 - decoder_deconv_output_loss: 0.0160 - encoder_output_loss: 0.2931 - feature_output_loss: 0.6874 - val_loss: 1.0244 - val_decoder_deconv_output_loss: 0.1107 - val_encoder_output_loss: 0.2296 - val_feature_output_loss: 0.0467\n",
      "Epoch 64/100\n",
      "168/168 [==============================] - 7s 41ms/step - loss: 24.1669 - decoder_deconv_output_loss: 0.0235 - encoder_output_loss: 0.3672 - feature_output_loss: 23.3918 - val_loss: 1172.2555 - val_decoder_deconv_output_loss: 1.1226 - val_encoder_output_loss: 28.4584 - val_feature_output_loss: 1136.9413\n",
      "Epoch 65/100\n",
      "168/168 [==============================] - 7s 41ms/step - loss: 487.1476 - decoder_deconv_output_loss: 0.0344 - encoder_output_loss: 20.9167 - feature_output_loss: 463.4808 - val_loss: 118.4016 - val_decoder_deconv_output_loss: 0.0889 - val_encoder_output_loss: 8.5018 - val_feature_output_loss: 108.2859\n",
      "Epoch 66/100\n",
      "168/168 [==============================] - 7s 41ms/step - loss: 2.2527 - decoder_deconv_output_loss: 0.0182 - encoder_output_loss: 0.3633 - feature_output_loss: 1.1071 - val_loss: 1.6287 - val_decoder_deconv_output_loss: 0.1409 - val_encoder_output_loss: 0.1699 - val_feature_output_loss: 0.3422\n",
      "Epoch 67/100\n",
      "168/168 [==============================] - 7s 41ms/step - loss: 1.5683 - decoder_deconv_output_loss: 0.0173 - encoder_output_loss: 0.3387 - feature_output_loss: 0.8346 - val_loss: 1.2451 - val_decoder_deconv_output_loss: 0.1346 - val_encoder_output_loss: 0.2077 - val_feature_output_loss: 0.1249\n",
      "Epoch 68/100\n",
      "168/168 [==============================] - 7s 41ms/step - loss: 0.9818 - decoder_deconv_output_loss: 0.0171 - encoder_output_loss: 0.2776 - feature_output_loss: 0.3915 - val_loss: 1.1200 - val_decoder_deconv_output_loss: 0.0591 - val_encoder_output_loss: 0.5703 - val_feature_output_loss: 0.0415\n",
      "Epoch 69/100\n",
      "168/168 [==============================] - 7s 40ms/step - loss: 2.7260 - decoder_deconv_output_loss: 0.0232 - encoder_output_loss: 2.0820 - feature_output_loss: 0.2394 - val_loss: 11.1817 - val_decoder_deconv_output_loss: 0.0617 - val_encoder_output_loss: 10.3466 - val_feature_output_loss: 0.0698\n",
      "Epoch 70/100\n",
      "168/168 [==============================] - 7s 40ms/step - loss: 3554.1570 - decoder_deconv_output_loss: 0.0848 - encoder_output_loss: 10.5731 - feature_output_loss: 3541.2212 - val_loss: 28.4448 - val_decoder_deconv_output_loss: 0.1152 - val_encoder_output_loss: 2.1746 - val_feature_output_loss: 23.0518\n",
      "Epoch 71/100\n",
      "168/168 [==============================] - 7s 41ms/step - loss: 11.4138 - decoder_deconv_output_loss: 0.0630 - encoder_output_loss: 0.3614 - feature_output_loss: 9.3076 - val_loss: 21.1115 - val_decoder_deconv_output_loss: 0.1357 - val_encoder_output_loss: 0.6593 - val_feature_output_loss: 19.0208\n",
      "Epoch 72/100\n",
      "168/168 [==============================] - 7s 40ms/step - loss: 2.5656 - decoder_deconv_output_loss: 0.0335 - encoder_output_loss: 0.5302 - feature_output_loss: 1.3275 - val_loss: 3.5703 - val_decoder_deconv_output_loss: 0.2069 - val_encoder_output_loss: 1.8394 - val_feature_output_loss: 0.2255\n",
      "Epoch 73/100\n",
      "168/168 [==============================] - 7s 40ms/step - loss: 7.1653 - decoder_deconv_output_loss: 0.0233 - encoder_output_loss: 5.7065 - feature_output_loss: 0.8382 - val_loss: 2.0642 - val_decoder_deconv_output_loss: 0.1393 - val_encoder_output_loss: 0.8964 - val_feature_output_loss: 0.1595\n",
      "Epoch 74/100\n",
      "168/168 [==============================] - 7s 40ms/step - loss: 2.0616 - decoder_deconv_output_loss: 0.0247 - encoder_output_loss: 0.7897 - feature_output_loss: 0.8168 - val_loss: 1.5601 - val_decoder_deconv_output_loss: 0.0767 - val_encoder_output_loss: 0.6713 - val_feature_output_loss: 0.2229\n",
      "Epoch 75/100\n",
      "168/168 [==============================] - 7s 41ms/step - loss: 1.9682 - decoder_deconv_output_loss: 0.0231 - encoder_output_loss: 0.4187 - feature_output_loss: 1.0624 - val_loss: 1.6189 - val_decoder_deconv_output_loss: 0.0517 - val_encoder_output_loss: 0.3515 - val_feature_output_loss: 0.7437\n",
      "Epoch 76/100\n",
      "168/168 [==============================] - 7s 40ms/step - loss: 2.4377 - decoder_deconv_output_loss: 0.0279 - encoder_output_loss: 0.5419 - feature_output_loss: 1.4782 - val_loss: 119.5465 - val_decoder_deconv_output_loss: 1.2654 - val_encoder_output_loss: 47.8007 - val_feature_output_loss: 64.8812\n",
      "Epoch 77/100\n",
      "168/168 [==============================] - 7s 40ms/step - loss: 6.1311 - decoder_deconv_output_loss: 0.0252 - encoder_output_loss: 4.5179 - feature_output_loss: 0.8392 - val_loss: 5.7233 - val_decoder_deconv_output_loss: 0.0546 - val_encoder_output_loss: 4.6772 - val_feature_output_loss: 0.4500\n",
      "Epoch 78/100\n",
      "168/168 [==============================] - 7s 41ms/step - loss: 1.1307 - decoder_deconv_output_loss: 0.0184 - encoder_output_loss: 0.3229 - feature_output_loss: 0.4797 - val_loss: 1.2534 - val_decoder_deconv_output_loss: 0.1022 - val_encoder_output_loss: 0.3856 - val_feature_output_loss: 0.1708\n",
      "Epoch 79/100\n",
      "168/168 [==============================] - 7s 40ms/step - loss: 89.4460 - decoder_deconv_output_loss: 0.0274 - encoder_output_loss: 1.6035 - feature_output_loss: 87.3155 - val_loss: 10.9455 - val_decoder_deconv_output_loss: 0.0419 - val_encoder_output_loss: 1.5210 - val_feature_output_loss: 8.6967\n",
      "Epoch 80/100\n",
      "168/168 [==============================] - 7s 40ms/step - loss: 5.0302 - decoder_deconv_output_loss: 0.0186 - encoder_output_loss: 0.2645 - feature_output_loss: 4.3604 - val_loss: 9.8759 - val_decoder_deconv_output_loss: 0.0788 - val_encoder_output_loss: 0.7771 - val_feature_output_loss: 8.4777\n",
      "Epoch 81/100\n",
      "168/168 [==============================] - 7s 40ms/step - loss: 0.8365 - decoder_deconv_output_loss: 0.0163 - encoder_output_loss: 0.2680 - feature_output_loss: 0.3159 - val_loss: 1.2281 - val_decoder_deconv_output_loss: 0.1265 - val_encoder_output_loss: 0.3218 - val_feature_output_loss: 0.1472\n",
      "Epoch 82/100\n",
      "168/168 [==============================] - 7s 40ms/step - loss: 1.0025 - decoder_deconv_output_loss: 0.0158 - encoder_output_loss: 0.2861 - feature_output_loss: 0.4646 - val_loss: 1.4209 - val_decoder_deconv_output_loss: 0.1057 - val_encoder_output_loss: 0.7024 - val_feature_output_loss: 0.0178\n",
      "Epoch 83/100\n",
      "168/168 [==============================] - 7s 40ms/step - loss: 46.7084 - decoder_deconv_output_loss: 0.0262 - encoder_output_loss: 42.1621 - feature_output_loss: 4.0308 - val_loss: 2410.6125 - val_decoder_deconv_output_loss: 0.6055 - val_encoder_output_loss: 2355.6019 - val_feature_output_loss: 49.9386\n",
      "Epoch 84/100\n",
      "168/168 [==============================] - 7s 41ms/step - loss: 580.4902 - decoder_deconv_output_loss: 0.0511 - encoder_output_loss: 134.0163 - feature_output_loss: 442.4899 - val_loss: 409.0200 - val_decoder_deconv_output_loss: 0.0295 - val_encoder_output_loss: 383.1958 - val_feature_output_loss: 23.5413\n",
      "Epoch 85/100\n",
      "168/168 [==============================] - 7s 40ms/step - loss: 3.2540 - decoder_deconv_output_loss: 0.0195 - encoder_output_loss: 0.4608 - feature_output_loss: 1.3811 - val_loss: 3.0294 - val_decoder_deconv_output_loss: 0.0800 - val_encoder_output_loss: 0.4239 - val_feature_output_loss: 1.3660\n",
      "Epoch 86/100\n",
      "168/168 [==============================] - 7s 41ms/step - loss: 2.7293 - decoder_deconv_output_loss: 0.0187 - encoder_output_loss: 0.4846 - feature_output_loss: 1.4698 - val_loss: 1.7357 - val_decoder_deconv_output_loss: 0.1060 - val_encoder_output_loss: 0.3483 - val_feature_output_loss: 0.3156\n",
      "Epoch 87/100\n",
      "168/168 [==============================] - 7s 40ms/step - loss: 1.5728 - decoder_deconv_output_loss: 0.0174 - encoder_output_loss: 0.4485 - feature_output_loss: 0.5836 - val_loss: 1.9914 - val_decoder_deconv_output_loss: 0.0835 - val_encoder_output_loss: 0.4753 - val_feature_output_loss: 0.6874\n",
      "Epoch 88/100\n",
      "168/168 [==============================] - 7s 40ms/step - loss: 11.0863 - decoder_deconv_output_loss: 0.0273 - encoder_output_loss: 2.2177 - feature_output_loss: 7.9198 - val_loss: 7.8079 - val_decoder_deconv_output_loss: 0.0304 - val_encoder_output_loss: 4.1139 - val_feature_output_loss: 2.5417\n",
      "Epoch 89/100\n",
      "168/168 [==============================] - 7s 41ms/step - loss: 1.9321 - decoder_deconv_output_loss: 0.0207 - encoder_output_loss: 0.2916 - feature_output_loss: 0.8975 - val_loss: 2.3977 - val_decoder_deconv_output_loss: 0.0388 - val_encoder_output_loss: 0.4023 - val_feature_output_loss: 1.3334\n",
      "Epoch 90/100\n",
      "168/168 [==============================] - 7s 41ms/step - loss: 1.5988 - decoder_deconv_output_loss: 0.0205 - encoder_output_loss: 0.3694 - feature_output_loss: 0.7306 - val_loss: 1.6006 - val_decoder_deconv_output_loss: 0.0787 - val_encoder_output_loss: 0.4055 - val_feature_output_loss: 0.4780\n",
      "Epoch 91/100\n",
      "168/168 [==============================] - 7s 40ms/step - loss: 2.2422 - decoder_deconv_output_loss: 0.0218 - encoder_output_loss: 0.4732 - feature_output_loss: 1.2862 - val_loss: 3.2611 - val_decoder_deconv_output_loss: 0.0248 - val_encoder_output_loss: 2.1116 - val_feature_output_loss: 0.5853\n",
      "Epoch 92/100\n",
      "168/168 [==============================] - 7s 40ms/step - loss: 1.0405 - decoder_deconv_output_loss: 0.0205 - encoder_output_loss: 0.3100 - feature_output_loss: 0.3107 - val_loss: 1.5655 - val_decoder_deconv_output_loss: 0.0339 - val_encoder_output_loss: 0.6747 - val_feature_output_loss: 0.4427\n",
      "Epoch 93/100\n",
      "168/168 [==============================] - 7s 41ms/step - loss: 22.9910 - decoder_deconv_output_loss: 0.0327 - encoder_output_loss: 3.5414 - feature_output_loss: 18.6200 - val_loss: 12.4982 - val_decoder_deconv_output_loss: 0.0348 - val_encoder_output_loss: 1.6879 - val_feature_output_loss: 9.6803\n",
      "Epoch 94/100\n",
      "168/168 [==============================] - 7s 40ms/step - loss: 18.1520 - decoder_deconv_output_loss: 0.0201 - encoder_output_loss: 0.2892 - feature_output_loss: 17.1762 - val_loss: 12.3746 - val_decoder_deconv_output_loss: 0.0748 - val_encoder_output_loss: 0.6872 - val_feature_output_loss: 10.9638\n",
      "Epoch 95/100\n",
      "168/168 [==============================] - 7s 41ms/step - loss: 1.8537 - decoder_deconv_output_loss: 0.0160 - encoder_output_loss: 0.3544 - feature_output_loss: 1.1550 - val_loss: 1.1947 - val_decoder_deconv_output_loss: 0.1196 - val_encoder_output_loss: 0.2992 - val_feature_output_loss: 0.0982\n",
      "Epoch 96/100\n",
      "168/168 [==============================] - 7s 40ms/step - loss: 1.1867 - decoder_deconv_output_loss: 0.0157 - encoder_output_loss: 0.3048 - feature_output_loss: 0.6064 - val_loss: 1.2882 - val_decoder_deconv_output_loss: 0.1205 - val_encoder_output_loss: 0.3506 - val_feature_output_loss: 0.1306\n",
      "Epoch 97/100\n",
      "168/168 [==============================] - 7s 40ms/step - loss: 127.3321 - decoder_deconv_output_loss: 0.0398 - encoder_output_loss: 35.4947 - feature_output_loss: 90.8318 - val_loss: 2941.1934 - val_decoder_deconv_output_loss: 0.2619 - val_encoder_output_loss: 2794.9337 - val_feature_output_loss: 140.6866\n",
      "Epoch 98/100\n",
      "168/168 [==============================] - 7s 41ms/step - loss: 54.6526 - decoder_deconv_output_loss: 0.0378 - encoder_output_loss: 10.6009 - feature_output_loss: 41.5229 - val_loss: 95.0775 - val_decoder_deconv_output_loss: 0.0290 - val_encoder_output_loss: 19.4461 - val_feature_output_loss: 74.4042\n",
      "Epoch 99/100\n",
      "168/168 [==============================] - 7s 40ms/step - loss: 2.1257 - decoder_deconv_output_loss: 0.0197 - encoder_output_loss: 0.3785 - feature_output_loss: 0.9657 - val_loss: 1.7351 - val_decoder_deconv_output_loss: 0.0917 - val_encoder_output_loss: 0.4471 - val_feature_output_loss: 0.3927\n",
      "Epoch 100/100\n",
      "168/168 [==============================] - 7s 41ms/step - loss: 1.7181 - decoder_deconv_output_loss: 0.0179 - encoder_output_loss: 0.3987 - feature_output_loss: 0.8803 - val_loss: 1.3885 - val_decoder_deconv_output_loss: 0.0998 - val_encoder_output_loss: 0.4615 - val_feature_output_loss: 0.1299\n"
     ]
    },
    {
     "data": {
      "text/plain": [
       "<keras.callbacks.History at 0x7f33cdb567f0>"
      ]
     },
     "execution_count": 24,
     "metadata": {},
     "output_type": "execute_result"
    }
   ],
   "source": [
    "autoencoder.fit_generator(data_generator(train_x), \n",
    "                          steps_per_epoch=len(train_x)//32,\n",
    "                          epochs=100,\n",
    "                          callbacks=None, \n",
    "                          validation_data=data_generator(val_x),\n",
    "                          validation_steps=len(val_x)//32,\n",
    "                         )"
   ]
  },
  {
   "cell_type": "markdown",
   "metadata": {},
   "source": [
    "# train batch result"
   ]
  },
  {
   "cell_type": "code",
   "execution_count": 25,
   "metadata": {},
   "outputs": [],
   "source": [
    "i = 4"
   ]
  },
  {
   "cell_type": "code",
   "execution_count": null,
   "metadata": {},
   "outputs": [],
   "source": [
    "img = train_x[1] * 127 + 127\n",
    "plt.imshow(img.astype(np.uint8))"
   ]
  },
  {
   "cell_type": "code",
   "execution_count": 28,
   "metadata": {},
   "outputs": [],
   "source": [
    "autoencoder.save('model/ganormaly_autoencoder.h5')"
   ]
  },
  {
   "cell_type": "markdown",
   "metadata": {},
   "source": [
    "# Compute Score"
   ]
  },
  {
   "cell_type": "code",
   "execution_count": 47,
   "metadata": {},
   "outputs": [],
   "source": [
    "encoded = encoder.predict(x_test)"
   ]
  },
  {
   "cell_type": "code",
   "execution_count": 48,
   "metadata": {},
   "outputs": [],
   "source": [
    "encoded_gan = encoddecoderencoder.predict(x_test)"
   ]
  },
  {
   "cell_type": "code",
   "execution_count": 49,
   "metadata": {},
   "outputs": [],
   "source": [
    "import keras.backend as K"
   ]
  },
  {
   "cell_type": "code",
   "execution_count": 50,
   "metadata": {},
   "outputs": [],
   "source": [
    "score = np.sum(np.absolute(encoded, encoded_gan), axis=-1)"
   ]
  },
  {
   "cell_type": "code",
   "execution_count": 51,
   "metadata": {},
   "outputs": [],
   "source": [
    "score = (score - np.min(score)) / (np.max(score) - np.min(score))"
   ]
  },
  {
   "cell_type": "code",
   "execution_count": 52,
   "metadata": {},
   "outputs": [],
   "source": [
    "from pylab import rcParams\n",
    "rcParams['figure.figsize'] = 14, 5"
   ]
  },
  {
   "cell_type": "code",
   "execution_count": 53,
   "metadata": {},
   "outputs": [
    {
     "data": {
      "text/plain": [
       "<matplotlib.collections.PathCollection at 0x7f2ffdd81a90>"
      ]
     },
     "execution_count": 53,
     "metadata": {},
     "output_type": "execute_result"
    },
    {
     "data": {
      "image/png": "[encoded data removed]",
      "text/plain": [
       "<Figure size 1008x360 with 1 Axes>"
      ]
     },
     "metadata": {
      "needs_background": "light"
     },
     "output_type": "display_data"
    }
   ],
   "source": [
    "plt.scatter(range(len(x_test[:300])), score[:300], c=['skyblue' if x == 1 else 'pink' for x in y_test[:300]])"
   ]
  },
  {
   "cell_type": "code",
   "execution_count": 59,
   "metadata": {},
   "outputs": [
    {
     "name": "stdout",
     "output_type": "stream",
     "text": [
      "normal accuracy: 0.79\n",
      "abnormal accuracy: 0.93\n"
     ]
    }
   ],
   "source": [
    "print('normal accuracy: %.2f' % (len(score[(y_test == 1) & (score < 0.2)]) / 1135))\n",
    "print('abnormal accuracy: %.2f' % (len(score[(y_test != 1) & (score > 0.2)]) / len(score[y_test != 1])))"
   ]
  },
  {
   "cell_type": "code",
   "execution_count": null,
   "metadata": {},
   "outputs": [],
   "source": []
  }
 ],
 "metadata": {
  "kernelspec": {
   "display_name": "Python 3",
   "language": "python",
   "name": "python3"
  },
  "language_info": {
   "codemirror_mode": {
    "name": "ipython",
    "version": 3
   },
   "file_extension": ".py",
   "mimetype": "text/x-python",
   "name": "python",
   "nbconvert_exporter": "python",
   "pygments_lexer": "ipython3",
   "version": "3.6.6"
  }
 },
 "nbformat": 4,
 "nbformat_minor": 2
}
